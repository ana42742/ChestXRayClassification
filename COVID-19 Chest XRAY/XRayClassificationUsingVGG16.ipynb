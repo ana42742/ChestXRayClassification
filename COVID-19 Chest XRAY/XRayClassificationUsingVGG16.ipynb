{
 "cells": [
  {
   "cell_type": "code",
   "execution_count": 1,
   "id": "25e75c27",
   "metadata": {},
   "outputs": [
    {
     "name": "stderr",
     "output_type": "stream",
     "text": [
      "Using TensorFlow backend.\n"
     ]
    }
   ],
   "source": [
    "import os\n",
    "import numpy as np\n",
    "import pandas as pd\n",
    "import matplotlib.pyplot as plt\n",
    "import tensorflow as tf\n",
    "import cv2\n",
    "from sklearn.model_selection import train_test_split\n",
    "from keras.applications.vgg16 import VGG16\n",
    "from keras.layers import AveragePooling2D, Dense, Flatten, Dropout\n",
    "from keras.models import Model"
   ]
  },
  {
   "cell_type": "code",
   "execution_count": 2,
   "id": "02ede5b5",
   "metadata": {},
   "outputs": [],
   "source": [
    "normal_path = \"../IT workshop/COVID-19_Radiography_Dataset/Normal/images\"\n",
    "viral_path = \"../IT workshop/COVID-19_Radiography_Dataset/Viral Pneumonia/images\"\n",
    "covid_path = \"../IT workshop/COVID-19_Radiography_Dataset/COVID/images\""
   ]
  },
  {
   "cell_type": "code",
   "execution_count": 3,
   "id": "32d24f22",
   "metadata": {},
   "outputs": [],
   "source": [
    "filenames = os.listdir(normal_path) + os.listdir(viral_path) + os.listdir(covid_path) "
   ]
  },
  {
   "cell_type": "code",
   "execution_count": 4,
   "id": "259be2f3",
   "metadata": {},
   "outputs": [],
   "source": [
    "# 0 -> Normal\n",
    "# 1 -> Viral Pneumonia\n",
    "# 2 -> COVID-19\n",
    "\n",
    "categories = []\n",
    "paths = []\n",
    "for filename in filenames:\n",
    "    if \"Normal\" in filename:\n",
    "        categories.append('normal')\n",
    "        paths.append(normal_path + '/' + filename)\n",
    "    if \"Viral Pneumonia\" in filename:\n",
    "        categories.append('viral pneumonia')\n",
    "        paths.append(viral_path + '/' + filename)\n",
    "    if \"COVID\" in filename:\n",
    "        categories.append('covid')\n",
    "        paths.append(covid_path + '/' + filename)"
   ]
  },
  {
   "cell_type": "code",
   "execution_count": 5,
   "id": "83f9b77e",
   "metadata": {},
   "outputs": [],
   "source": [
    "df = pd.DataFrame({\n",
    "    'File Path' : paths,\n",
    "    'Category' : categories\n",
    "})"
   ]
  },
  {
   "cell_type": "code",
   "execution_count": 6,
   "id": "15007e3d",
   "metadata": {},
   "outputs": [
    {
     "data": {
      "text/html": [
       "<div>\n",
       "<style scoped>\n",
       "    .dataframe tbody tr th:only-of-type {\n",
       "        vertical-align: middle;\n",
       "    }\n",
       "\n",
       "    .dataframe tbody tr th {\n",
       "        vertical-align: top;\n",
       "    }\n",
       "\n",
       "    .dataframe thead th {\n",
       "        text-align: right;\n",
       "    }\n",
       "</style>\n",
       "<table border=\"1\" class=\"dataframe\">\n",
       "  <thead>\n",
       "    <tr style=\"text-align: right;\">\n",
       "      <th></th>\n",
       "      <th>File Path</th>\n",
       "      <th>Category</th>\n",
       "    </tr>\n",
       "  </thead>\n",
       "  <tbody>\n",
       "    <tr>\n",
       "      <th>10192</th>\n",
       "      <td>../IT workshop/COVID-19_Radiography_Dataset/Vi...</td>\n",
       "      <td>viral pneumonia</td>\n",
       "    </tr>\n",
       "    <tr>\n",
       "      <th>10193</th>\n",
       "      <td>../IT workshop/COVID-19_Radiography_Dataset/Vi...</td>\n",
       "      <td>viral pneumonia</td>\n",
       "    </tr>\n",
       "    <tr>\n",
       "      <th>10194</th>\n",
       "      <td>../IT workshop/COVID-19_Radiography_Dataset/Vi...</td>\n",
       "      <td>viral pneumonia</td>\n",
       "    </tr>\n",
       "    <tr>\n",
       "      <th>10195</th>\n",
       "      <td>../IT workshop/COVID-19_Radiography_Dataset/Vi...</td>\n",
       "      <td>viral pneumonia</td>\n",
       "    </tr>\n",
       "    <tr>\n",
       "      <th>10196</th>\n",
       "      <td>../IT workshop/COVID-19_Radiography_Dataset/Vi...</td>\n",
       "      <td>viral pneumonia</td>\n",
       "    </tr>\n",
       "    <tr>\n",
       "      <th>...</th>\n",
       "      <td>...</td>\n",
       "      <td>...</td>\n",
       "    </tr>\n",
       "    <tr>\n",
       "      <th>11532</th>\n",
       "      <td>../IT workshop/COVID-19_Radiography_Dataset/Vi...</td>\n",
       "      <td>viral pneumonia</td>\n",
       "    </tr>\n",
       "    <tr>\n",
       "      <th>11533</th>\n",
       "      <td>../IT workshop/COVID-19_Radiography_Dataset/Vi...</td>\n",
       "      <td>viral pneumonia</td>\n",
       "    </tr>\n",
       "    <tr>\n",
       "      <th>11534</th>\n",
       "      <td>../IT workshop/COVID-19_Radiography_Dataset/Vi...</td>\n",
       "      <td>viral pneumonia</td>\n",
       "    </tr>\n",
       "    <tr>\n",
       "      <th>11535</th>\n",
       "      <td>../IT workshop/COVID-19_Radiography_Dataset/Vi...</td>\n",
       "      <td>viral pneumonia</td>\n",
       "    </tr>\n",
       "    <tr>\n",
       "      <th>11536</th>\n",
       "      <td>../IT workshop/COVID-19_Radiography_Dataset/Vi...</td>\n",
       "      <td>viral pneumonia</td>\n",
       "    </tr>\n",
       "  </tbody>\n",
       "</table>\n",
       "<p>1345 rows × 2 columns</p>\n",
       "</div>"
      ],
      "text/plain": [
       "                                               File Path         Category\n",
       "10192  ../IT workshop/COVID-19_Radiography_Dataset/Vi...  viral pneumonia\n",
       "10193  ../IT workshop/COVID-19_Radiography_Dataset/Vi...  viral pneumonia\n",
       "10194  ../IT workshop/COVID-19_Radiography_Dataset/Vi...  viral pneumonia\n",
       "10195  ../IT workshop/COVID-19_Radiography_Dataset/Vi...  viral pneumonia\n",
       "10196  ../IT workshop/COVID-19_Radiography_Dataset/Vi...  viral pneumonia\n",
       "...                                                  ...              ...\n",
       "11532  ../IT workshop/COVID-19_Radiography_Dataset/Vi...  viral pneumonia\n",
       "11533  ../IT workshop/COVID-19_Radiography_Dataset/Vi...  viral pneumonia\n",
       "11534  ../IT workshop/COVID-19_Radiography_Dataset/Vi...  viral pneumonia\n",
       "11535  ../IT workshop/COVID-19_Radiography_Dataset/Vi...  viral pneumonia\n",
       "11536  ../IT workshop/COVID-19_Radiography_Dataset/Vi...  viral pneumonia\n",
       "\n",
       "[1345 rows x 2 columns]"
      ]
     },
     "execution_count": 6,
     "metadata": {},
     "output_type": "execute_result"
    }
   ],
   "source": [
    "df[df['Category'] == 'viral pneumonia']"
   ]
  },
  {
   "cell_type": "code",
   "execution_count": 7,
   "id": "0da5e55d",
   "metadata": {},
   "outputs": [
    {
     "data": {
      "text/plain": [
       "<matplotlib.image.AxesImage at 0x7fd47010fa90>"
      ]
     },
     "execution_count": 7,
     "metadata": {},
     "output_type": "execute_result"
    },
    {
     "data": {
      "image/png": "[encoded data removed]",
      "text/plain": [
       "<Figure size 432x288 with 1 Axes>"
      ]
     },
     "metadata": {
      "needs_background": "light"
     },
     "output_type": "display_data"
    }
   ],
   "source": [
    "img = cv2.imread(df['File Path'][2000])\n",
    "plt.imshow(img)"
   ]
  },
  {
   "cell_type": "code",
   "execution_count": 8,
   "id": "5af3e938",
   "metadata": {},
   "outputs": [],
   "source": [
    "#Splitting into training and testing data\n",
    "train_data , test_valid_data = train_test_split(df, test_size=0.25, random_state = 42, \n",
    "                                                shuffle=True, stratify=df['Category'])"
   ]
  },
  {
   "cell_type": "code",
   "execution_count": 9,
   "id": "f6a8f940",
   "metadata": {},
   "outputs": [],
   "source": [
    "train_data = train_data.reset_index(drop=True)\n",
    "test_valid_data = test_valid_data.reset_index(drop=True)"
   ]
  },
  {
   "cell_type": "code",
   "execution_count": 10,
   "id": "597d32eb",
   "metadata": {},
   "outputs": [],
   "source": [
    "#Splitting testing data into validation and testing data\n",
    "test_data, valid_data = train_test_split(test_valid_data, test_size=0.5, random_state = 42,\n",
    "                                         shuffle=True, stratify=test_valid_data['Category'])\n",
    "test_data = test_data.reset_index(drop=True)\n",
    "valid_data = valid_data.reset_index(drop=True)"
   ]
  },
  {
   "cell_type": "code",
   "execution_count": 11,
   "id": "853dc955",
   "metadata": {},
   "outputs": [],
   "source": [
    "train_data_gen = tf.keras.preprocessing.image.ImageDataGenerator(\n",
    "    rotation_range=15,\n",
    "    rescale=1./255,\n",
    "    shear_range=0.1,\n",
    "    zoom_range=0.2,\n",
    "    horizontal_flip=True,\n",
    "    width_shift_range=0.1,\n",
    "    height_shift_range=0.1\n",
    ")"
   ]
  },
  {
   "cell_type": "code",
   "execution_count": 12,
   "id": "6aa0b8db",
   "metadata": {},
   "outputs": [
    {
     "name": "stdout",
     "output_type": "stream",
     "text": [
      "Found 11364 validated image filenames belonging to 3 classes.\n"
     ]
    }
   ],
   "source": [
    "train_gen = train_data_gen.flow_from_dataframe(\n",
    "    train_data, \n",
    "    x_col='File Path',\n",
    "    y_col='Category',\n",
    "    target_size=(224,224),\n",
    "    class_mode='categorical',\n",
    "    batch_size=32\n",
    ")"
   ]
  },
  {
   "cell_type": "code",
   "execution_count": 13,
   "id": "7624f245",
   "metadata": {},
   "outputs": [
    {
     "name": "stdout",
     "output_type": "stream",
     "text": [
      "Found 1895 validated image filenames belonging to 3 classes.\n"
     ]
    }
   ],
   "source": [
    "valid_data_gen = tf.keras.preprocessing.image.ImageDataGenerator(rescale=1./255)\n",
    "\n",
    "valid_gen = valid_data_gen.flow_from_dataframe(\n",
    "    valid_data, \n",
    "    x_col='File Path',\n",
    "    y_col='Category',\n",
    "    target_size=(224,224),\n",
    "    class_mode='categorical',\n",
    "    batch_size=32\n",
    ")\n"
   ]
  },
  {
   "cell_type": "code",
   "execution_count": 14,
   "id": "8f7b0533",
   "metadata": {},
   "outputs": [],
   "source": [
    "base_model = VGG16(input_shape=(224,224,3), weights='imagenet', include_top=False)"
   ]
  },
  {
   "cell_type": "code",
   "execution_count": 15,
   "id": "3663152b",
   "metadata": {},
   "outputs": [],
   "source": [
    "# Customisations to VGG16:\n",
    "# Adding Pooling and Flatten layers to the model\n",
    "# Adding 1 hidden layer where we chose the activation function as Rectified Linear Unit\n",
    "# Adding a Dropout layer to prevent overfitting of model\n",
    "# Finaly using a softmax in our output layer"
   ]
  },
  {
   "cell_type": "code",
   "execution_count": 16,
   "id": "d57c07b7",
   "metadata": {},
   "outputs": [],
   "source": [
    "for layer in base_model.layers:\n",
    "    layer.trainable = False\n",
    "\n",
    "head_model = base_model.output\n",
    "head_model = AveragePooling2D()(head_model)\n",
    "head_model = Flatten()(head_model)\n",
    "head_model = Dense(128, activation=\"relu\")(head_model)\n",
    "head_model = Dropout(0.2)(head_model)\n",
    "head_model = Dense(3, activation='softmax')(head_model)\n",
    "\n",
    "model = Model(inputs=base_model.input, outputs=head_model)"
   ]
  },
  {
   "cell_type": "code",
   "execution_count": 17,
   "id": "4e5f7e53",
   "metadata": {},
   "outputs": [
    {
     "name": "stdout",
     "output_type": "stream",
     "text": [
      "Model: \"model_1\"\n",
      "_________________________________________________________________\n",
      "Layer (type)                 Output Shape              Param #   \n",
      "=================================================================\n",
      "input_1 (InputLayer)         (None, 224, 224, 3)       0         \n",
      "_________________________________________________________________\n",
      "block1_conv1 (Conv2D)        (None, 224, 224, 64)      1792      \n",
      "_________________________________________________________________\n",
      "block1_conv2 (Conv2D)        (None, 224, 224, 64)      36928     \n",
      "_________________________________________________________________\n",
      "block1_pool (MaxPooling2D)   (None, 112, 112, 64)      0         \n",
      "_________________________________________________________________\n",
      "block2_conv1 (Conv2D)        (None, 112, 112, 128)     73856     \n",
      "_________________________________________________________________\n",
      "block2_conv2 (Conv2D)        (None, 112, 112, 128)     147584    \n",
      "_________________________________________________________________\n",
      "block2_pool (MaxPooling2D)   (None, 56, 56, 128)       0         \n",
      "_________________________________________________________________\n",
      "block3_conv1 (Conv2D)        (None, 56, 56, 256)       295168    \n",
      "_________________________________________________________________\n",
      "block3_conv2 (Conv2D)        (None, 56, 56, 256)       590080    \n",
      "_________________________________________________________________\n",
      "block3_conv3 (Conv2D)        (None, 56, 56, 256)       590080    \n",
      "_________________________________________________________________\n",
      "block3_pool (MaxPooling2D)   (None, 28, 28, 256)       0         \n",
      "_________________________________________________________________\n",
      "block4_conv1 (Conv2D)        (None, 28, 28, 512)       1180160   \n",
      "_________________________________________________________________\n",
      "block4_conv2 (Conv2D)        (None, 28, 28, 512)       2359808   \n",
      "_________________________________________________________________\n",
      "block4_conv3 (Conv2D)        (None, 28, 28, 512)       2359808   \n",
      "_________________________________________________________________\n",
      "block4_pool (MaxPooling2D)   (None, 14, 14, 512)       0         \n",
      "_________________________________________________________________\n",
      "block5_conv1 (Conv2D)        (None, 14, 14, 512)       2359808   \n",
      "_________________________________________________________________\n",
      "block5_conv2 (Conv2D)        (None, 14, 14, 512)       2359808   \n",
      "_________________________________________________________________\n",
      "block5_conv3 (Conv2D)        (None, 14, 14, 512)       2359808   \n",
      "_________________________________________________________________\n",
      "block5_pool (MaxPooling2D)   (None, 7, 7, 512)         0         \n",
      "_________________________________________________________________\n",
      "average_pooling2d_1 (Average (None, 3, 3, 512)         0         \n",
      "_________________________________________________________________\n",
      "flatten_1 (Flatten)          (None, 4608)              0         \n",
      "_________________________________________________________________\n",
      "dense_1 (Dense)              (None, 128)               589952    \n",
      "_________________________________________________________________\n",
      "dropout_1 (Dropout)          (None, 128)               0         \n",
      "_________________________________________________________________\n",
      "dense_2 (Dense)              (None, 3)                 387       \n",
      "=================================================================\n",
      "Total params: 15,305,027\n",
      "Trainable params: 590,339\n",
      "Non-trainable params: 14,714,688\n",
      "_________________________________________________________________\n"
     ]
    }
   ],
   "source": [
    "model.summary()"
   ]
  },
  {
   "cell_type": "code",
   "execution_count": 18,
   "id": "b0627ff2",
   "metadata": {},
   "outputs": [],
   "source": [
    "model.compile(optimizer='adam', loss='categorical_crossentropy', metrics=['accuracy'])"
   ]
  },
  {
   "cell_type": "code",
   "execution_count": null,
   "id": "5ecfadc6",
   "metadata": {},
   "outputs": [
    {
     "name": "stdout",
     "output_type": "stream",
     "text": [
      "Epoch 1/5\n",
      "116/356 [========>.....................] - ETA: 16:46:56 - loss: 0.5814 - accuracy: 0.7500"
     ]
    }
   ],
   "source": [
    "epochs = 5\n",
    "model.fit(train_gen, epochs=epochs, validation_data=valid_gen, verbose=1)"
   ]
  },
  {
   "cell_type": "code",
   "execution_count": null,
   "id": "400693df",
   "metadata": {},
   "outputs": [],
   "source": []
  }
 ],
 "metadata": {
  "kernelspec": {
   "display_name": "Python 3",
   "language": "python",
   "name": "python3"
  },
  "language_info": {
   "codemirror_mode": {
    "name": "ipython",
    "version": 3
   },
   "file_extension": ".py",
   "mimetype": "text/x-python",
   "name": "python",
   "nbconvert_exporter": "python",
   "pygments_lexer": "ipython3",
   "version": "3.6.13"
  }
 },
 "nbformat": 4,
 "nbformat_minor": 5
}
